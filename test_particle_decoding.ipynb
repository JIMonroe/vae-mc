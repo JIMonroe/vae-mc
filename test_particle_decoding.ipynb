{
 "cells": [
  {
   "cell_type": "code",
   "execution_count": 1,
   "metadata": {},
   "outputs": [],
   "source": [
    "import numpy as np\n",
    "import tensorflow as tf\n",
    "import tensorflow_probability as tfp\n",
    "\n",
    "from importlib import reload"
   ]
  },
  {
   "cell_type": "code",
   "execution_count": 42,
   "metadata": {},
   "outputs": [],
   "source": [
    "import particle_decoding as pd"
   ]
  },
  {
   "cell_type": "code",
   "execution_count": 59,
   "metadata": {},
   "outputs": [
    {
     "data": {
      "text/plain": [
       "<module 'particle_decoding' from '/Users/jim2/bin/libVAE/particle_decoding.py'>"
      ]
     },
     "execution_count": 59,
     "metadata": {},
     "output_type": "execute_result"
    }
   ],
   "source": [
    "reload(pd)"
   ]
  },
  {
   "cell_type": "markdown",
   "metadata": {},
   "source": [
    "## Transformations"
   ]
  },
  {
   "cell_type": "code",
   "execution_count": 6,
   "metadata": {},
   "outputs": [],
   "source": [
    "test_coords = np.array([[[1.0, 1.0, 1.0],\n",
    "                        [-1.0, 1.0, 0.0],\n",
    "                        [0.5, 0.5, 1.0]],\n",
    "                        [[1.0, 1.0, 1.0],\n",
    "                        [-1.0, 1.0, 0.0],\n",
    "                        [0.5, 0.5, 1.0]]])"
   ]
  },
  {
   "cell_type": "code",
   "execution_count": 7,
   "metadata": {},
   "outputs": [
    {
     "data": {
      "text/plain": [
       "<tf.Tensor: shape=(2, 3, 3), dtype=float64, numpy=\n",
       "array([[[ 1. ,  1. ,  1. ],\n",
       "        [-1. ,  1. ,  0. ],\n",
       "        [ 0.5,  0.5,  1. ]],\n",
       "\n",
       "       [[ 1. ,  1. ,  1. ],\n",
       "        [-1. ,  1. ,  0. ],\n",
       "        [ 0.5,  0.5,  1. ]]])>"
      ]
     },
     "execution_count": 7,
     "metadata": {},
     "output_type": "execute_result"
    }
   ],
   "source": [
    "pd.identity_transform(test_coords)"
   ]
  },
  {
   "cell_type": "code",
   "execution_count": 8,
   "metadata": {},
   "outputs": [
    {
     "data": {
      "text/plain": [
       "<tf.Tensor: shape=(2, 3, 3), dtype=float64, numpy=\n",
       "array([[[1.73205081, 0.78539816, 0.95531662],\n",
       "        [1.41421356, 2.35619449, 1.57079633],\n",
       "        [1.22474487, 0.78539816, 0.61547971]],\n",
       "\n",
       "       [[1.73205081, 0.78539816, 0.95531662],\n",
       "        [1.41421356, 2.35619449, 1.57079633],\n",
       "        [1.22474487, 0.78539816, 0.61547971]]])>"
      ]
     },
     "execution_count": 8,
     "metadata": {},
     "output_type": "execute_result"
    }
   ],
   "source": [
    "pd.spherical_transform(test_coords)"
   ]
  },
  {
   "cell_type": "code",
   "execution_count": 9,
   "metadata": {},
   "outputs": [
    {
     "data": {
      "text/plain": [
       "<tf.Tensor: shape=(2, 3, 3), dtype=float64, numpy=\n",
       "array([[[1.73205081, 0.78539816, 0.95531662],\n",
       "        [1.41421356, 2.35619449, 1.57079633],\n",
       "        [1.22474487, 0.78539816, 0.61547971]],\n",
       "\n",
       "       [[1.73205081, 0.78539816, 0.95531662],\n",
       "        [1.41421356, 2.35619449, 1.57079633],\n",
       "        [1.22474487, 0.78539816, 0.61547971]]])>"
      ]
     },
     "execution_count": 9,
     "metadata": {},
     "output_type": "execute_result"
    }
   ],
   "source": [
    "pd.spherical_transform(test_coords, dist_sq=tf.reduce_sum(test_coords * test_coords, axis=-1))"
   ]
  },
  {
   "cell_type": "code",
   "execution_count": 10,
   "metadata": {},
   "outputs": [
    {
     "data": {
      "text/plain": [
       "<tf.Tensor: shape=(2, 3, 3), dtype=float64, numpy=\n",
       "array([[[ 1.00000000e+00,  1.00000000e+00,  1.00000000e+00],\n",
       "        [-1.00000000e+00,  1.00000000e+00,  8.65956056e-17],\n",
       "        [ 5.00000000e-01,  5.00000000e-01,  1.00000000e+00]],\n",
       "\n",
       "       [[ 1.00000000e+00,  1.00000000e+00,  1.00000000e+00],\n",
       "        [-1.00000000e+00,  1.00000000e+00,  8.65956056e-17],\n",
       "        [ 5.00000000e-01,  5.00000000e-01,  1.00000000e+00]]])>"
      ]
     },
     "execution_count": 10,
     "metadata": {},
     "output_type": "execute_result"
    }
   ],
   "source": [
    "pd.spherical_transform(pd.spherical_transform(test_coords), reverse=True)"
   ]
  },
  {
   "cell_type": "markdown",
   "metadata": {},
   "source": [
    "## Masking by distance"
   ]
  },
  {
   "cell_type": "code",
   "execution_count": 11,
   "metadata": {},
   "outputs": [],
   "source": [
    "test_coords = np.array([[[1.0, 1.0, 1.0],\n",
    "                        [-1.0, 1.0, 0.0],\n",
    "                        [0.5, 0.5, 1.0]],\n",
    "                        [[1.0, 1.0, 1.0],\n",
    "                        [-1.0, 1.0, 0.0],\n",
    "                        [0.5, 0.5, 1.0]]])\n",
    "\n",
    "ref_coords = np.array([[[0.0, 0.0, 0.0]],\n",
    "                       [[0.0, 0.0, 1.0]]])"
   ]
  },
  {
   "cell_type": "code",
   "execution_count": 12,
   "metadata": {},
   "outputs": [
    {
     "data": {
      "text/plain": [
       "(<tf.Tensor: shape=(2, 2, 3), dtype=float64, numpy=\n",
       " array([[[ 0.5,  0.5,  1. ],\n",
       "         [-1. ,  1. ,  0. ]],\n",
       " \n",
       "        [[ 0.5,  0.5,  0. ],\n",
       "         [ 1. ,  1. ,  0. ]]])>,\n",
       " <tf.Tensor: shape=(2, 2), dtype=int32, numpy=\n",
       " array([[2, 1],\n",
       "        [2, 0]], dtype=int32)>,\n",
       " <tf.Tensor: shape=(2, 2), dtype=float64, numpy=\n",
       " array([[1.5, 2. ],\n",
       "        [0.5, 2. ]])>)"
      ]
     },
     "execution_count": 12,
     "metadata": {},
     "output_type": "execute_result"
    }
   ],
   "source": [
    "pd.distance_mask(ref_coords, test_coords, k_neighbors=2)"
   ]
  },
  {
   "cell_type": "code",
   "execution_count": 13,
   "metadata": {},
   "outputs": [
    {
     "data": {
      "text/plain": [
       "<tf.Tensor: shape=(2, 2, 3), dtype=float64, numpy=\n",
       "array([[[1.22474487, 0.78539816, 0.61547971],\n",
       "        [1.41421356, 2.35619449, 1.57079633]],\n",
       "\n",
       "       [[0.70710678, 0.78539816, 1.57079633],\n",
       "        [1.41421356, 0.78539816, 1.57079633]]])>"
      ]
     },
     "execution_count": 13,
     "metadata": {},
     "output_type": "execute_result"
    }
   ],
   "source": [
    "local_coords, near_inds, dist_sq = pd.distance_mask(ref_coords, test_coords, k_neighbors=2)\n",
    "pd.spherical_transform(local_coords, dist_sq=dist_sq)"
   ]
  },
  {
   "cell_type": "markdown",
   "metadata": {},
   "source": [
    "## Creating probability distributions"
   ]
  },
  {
   "cell_type": "code",
   "execution_count": 14,
   "metadata": {},
   "outputs": [],
   "source": [
    "params = np.array([[[[0.0, 1.0], [10.0, 1.0], [-10.0, 1.0]],\n",
    "                    [[0.0, 1.0], [0.0, 2.0], [0.0, 10.0]],\n",
    "                    [[5.0, 1.0], [5.0, 2.0], [5.0, 10.0]]],\n",
    "                   [[[0.0, 1.0], [-10.0, 1.0], [10.0, 1.0]],\n",
    "                    [[0.0, 10.0], [0.0, 2.0], [0.0, 1.0]],\n",
    "                    [[-5.0, 10.0], [-5.0, 2.0], [-5.0, 1.0]]]])\n",
    "\n",
    "dist_list = [tfp.distributions.Normal, tfp.distributions.Normal, tfp.distributions.Normal]"
   ]
  },
  {
   "cell_type": "code",
   "execution_count": 15,
   "metadata": {},
   "outputs": [],
   "source": [
    "joint_dist = pd.create_dist(params, dist_list)"
   ]
  },
  {
   "cell_type": "code",
   "execution_count": 16,
   "metadata": {},
   "outputs": [
    {
     "name": "stdout",
     "output_type": "stream",
     "text": [
      "tf.Tensor(\n",
      "[[[ -0.81760675  11.33741687 -10.07465369]\n",
      "  [  0.80637715   2.17460065  -7.56174451]\n",
      "  [  5.65615621   2.50775362  -3.24293371]]\n",
      "\n",
      " [[ -1.20212597  -9.72186889  10.74520898]\n",
      "  [  1.77992614   2.44943838   0.05657853]\n",
      "  [  1.37372276  -1.81720925  -5.56520884]]], shape=(2, 3, 3), dtype=float64)\n"
     ]
    }
   ],
   "source": [
    "sample = tf.stack(joint_dist.sample(), axis=-1)\n",
    "print(sample)"
   ]
  },
  {
   "cell_type": "code",
   "execution_count": 17,
   "metadata": {},
   "outputs": [
    {
     "data": {
      "text/plain": [
       "<tf.Tensor: shape=(2, 3), dtype=float64, numpy=\n",
       "array([[-3.98818452, -6.95468083, -7.08395964],\n",
       "       [-3.79571569, -6.51995767, -7.38166972]])>"
      ]
     },
     "execution_count": 17,
     "metadata": {},
     "output_type": "execute_result"
    }
   ],
   "source": [
    "joint_dist.log_prob(tf.unstack(sample, axis=-1))"
   ]
  },
  {
   "cell_type": "code",
   "execution_count": 18,
   "metadata": {},
   "outputs": [
    {
     "data": {
      "text/plain": [
       "-6.51995767293184"
      ]
     },
     "execution_count": 18,
     "metadata": {},
     "output_type": "execute_result"
    }
   ],
   "source": [
    "np.sum(-0.5*((sample[-1, 1, :] - params[-1, 1, :, 0])**2)/(params[-1, 1, :, 1]**2) - np.log(params[-1, 1, :, 1]) - 0.5*np.log(2.0*np.pi))"
   ]
  },
  {
   "cell_type": "markdown",
   "metadata": {},
   "source": [
    "## Solvation neural networks"
   ]
  },
  {
   "cell_type": "code",
   "execution_count": 19,
   "metadata": {},
   "outputs": [],
   "source": [
    "#Input can be solute or solvent coordinates, with extra_inputs being the other\n",
    "#Start by testing without augmented input (only relevant for first network to predict layer of solvent for first solute)\n",
    "solute_net = pd.SolvationNet((8, 3), out_event_dims=2, hidden_dim=50, n_hidden=3, augment_input=False)"
   ]
  },
  {
   "cell_type": "code",
   "execution_count": 20,
   "metadata": {},
   "outputs": [],
   "source": [
    "solute_coords = tf.random.normal((1, 2, 3))"
   ]
  },
  {
   "cell_type": "code",
   "execution_count": 21,
   "metadata": {
    "scrolled": true
   },
   "outputs": [
    {
     "name": "stdout",
     "output_type": "stream",
     "text": [
      "tf.Tensor(\n",
      "[[[[-0.09980661 -0.1041244 ]\n",
      "   [ 0.04961302 -0.05271351]\n",
      "   [-0.09814769  0.20591472]]\n",
      "\n",
      "  [[-0.10259533  0.02306227]\n",
      "   [-0.05728697 -0.00780068]\n",
      "   [ 0.09675334  0.07201551]]\n",
      "\n",
      "  [[-0.00781018  0.05733149]\n",
      "   [-0.19918846 -0.01654456]\n",
      "   [ 0.00218722  0.01779334]]\n",
      "\n",
      "  [[ 0.02409838  0.04546865]\n",
      "   [ 0.0926391  -0.17045996]\n",
      "   [-0.18060714 -0.07500496]]\n",
      "\n",
      "  [[-0.12327825 -0.09151483]\n",
      "   [-0.04204683 -0.16377294]\n",
      "   [-0.15425947 -0.0141225 ]]\n",
      "\n",
      "  [[ 0.04088102  0.07029386]\n",
      "   [-0.01120629 -0.0299336 ]\n",
      "   [ 0.10975686  0.07654113]]\n",
      "\n",
      "  [[ 0.08257192  0.04917239]\n",
      "   [ 0.06631015 -0.13409425]\n",
      "   [-0.04061389  0.13579434]]\n",
      "\n",
      "  [[ 0.05932912 -0.06376822]\n",
      "   [-0.1518034   0.13452949]\n",
      "   [ 0.03586555 -0.03287418]]]], shape=(1, 8, 3, 2), dtype=float32) tf.Tensor(\n",
      "[[[[-0.0383045   0.12508091]\n",
      "   [ 0.46848476  0.5283229 ]\n",
      "   [ 0.37754977 -0.42560795]]\n",
      "\n",
      "  [[ 0.0199008  -0.4003601 ]\n",
      "   [ 0.14179192 -0.3156644 ]\n",
      "   [-0.23247185  0.24679103]]\n",
      "\n",
      "  [[ 0.38978565 -0.06835768]\n",
      "   [ 0.4082023   0.31163254]\n",
      "   [-0.27703735 -0.1421772 ]]\n",
      "\n",
      "  [[ 0.26389003 -0.1216377 ]\n",
      "   [-0.15861273 -0.3356052 ]\n",
      "   [ 0.02088277  0.06521598]]\n",
      "\n",
      "  [[ 0.11100858 -0.08351551]\n",
      "   [-0.53331083  0.32173845]\n",
      "   [ 0.13172513 -0.09121285]]\n",
      "\n",
      "  [[ 0.79008836  0.18239665]\n",
      "   [-0.24958444  0.21676043]\n",
      "   [-0.11255184 -0.00230141]]\n",
      "\n",
      "  [[ 0.14352329  0.32347566]\n",
      "   [-0.14132726  0.44869772]\n",
      "   [-0.27389717  0.04501033]]\n",
      "\n",
      "  [[-0.43302357  0.01698157]\n",
      "   [-0.7309127  -0.27480313]\n",
      "   [-0.32434148 -0.4273128 ]]]], shape=(1, 8, 3, 2), dtype=float32)\n"
     ]
    }
   ],
   "source": [
    "params, shifts = solute_net(solute_coords)\n",
    "print(params, shifts)"
   ]
  },
  {
   "cell_type": "code",
   "execution_count": 22,
   "metadata": {},
   "outputs": [
    {
     "name": "stdout",
     "output_type": "stream",
     "text": [
      "tf.Tensor(\n",
      "[[[ 0.6135796  -0.33550513  0.37937278]\n",
      "  [-0.37440145 -0.06462502  0.5282067 ]\n",
      "  [ 0.8384571  -0.8439002   0.09957206]\n",
      "  [ 0.9197638   0.15746492  0.6442377 ]\n",
      "  [ 0.47552627 -0.57384294 -1.3950636 ]\n",
      "  [-0.11309004 -1.0998665  -1.120734  ]\n",
      "  [ 0.553651   -1.263895    0.88763237]\n",
      "  [ 0.4490246  -1.9193971  -1.2477242 ]]], shape=(1, 8, 3), dtype=float32)\n"
     ]
    }
   ],
   "source": [
    "dist = pd.create_dist(params + shifts, [tfp.distributions.Normal]*3,\n",
    "                      param_transforms=[tf.identity, lambda x: tf.math.exp(0.5*x)])\n",
    "sample = tf.stack(dist.sample(), axis=-1)\n",
    "print(sample)"
   ]
  },
  {
   "cell_type": "code",
   "execution_count": 23,
   "metadata": {
    "scrolled": true
   },
   "outputs": [
    {
     "name": "stdout",
     "output_type": "stream",
     "text": [
      "tf.Tensor(\n",
      "[[[[-0.0383045   0.12508091]\n",
      "   [ 0.46848476  0.5283229 ]\n",
      "   [ 0.37754977 -0.42560795]]\n",
      "\n",
      "  [[ 0.01660449 -0.39933178]\n",
      "   [ 0.14763793 -0.32144842]\n",
      "   [-0.23303536  0.25136343]]\n",
      "\n",
      "  [[ 0.39120752 -0.06646115]\n",
      "   [ 0.4022907   0.31650415]\n",
      "   [-0.27128214 -0.13910626]]\n",
      "\n",
      "  [[ 0.27705407 -0.11834546]\n",
      "   [-0.14851934 -0.3232368 ]\n",
      "   [ 0.02540156  0.06414494]]\n",
      "\n",
      "  [[ 0.10513692 -0.06454682]\n",
      "   [-0.56495523  0.30560976]\n",
      "   [ 0.11102645 -0.07631263]]\n",
      "\n",
      "  [[ 0.7589178   0.17683901]\n",
      "   [-0.2802874   0.20163116]\n",
      "   [-0.06162059  0.02359262]]\n",
      "\n",
      "  [[ 0.11184192  0.2580911 ]\n",
      "   [-0.09140304  0.46329448]\n",
      "   [-0.20937099  0.19694963]]\n",
      "\n",
      "  [[-0.5300697  -0.00627059]\n",
      "   [-0.8134009  -0.24270348]\n",
      "   [-0.31866944 -0.30322558]]]], shape=(1, 8, 3, 2), dtype=float32)\n"
     ]
    }
   ],
   "source": [
    "#First set of 3 (first particle) should not change shifts, even with different input due to autoregressive\n",
    "#All others should change, though\n",
    "new_shifts = solute_net(solute_coords, sampled_input=sample)\n",
    "print(new_shifts)"
   ]
  },
  {
   "cell_type": "code",
   "execution_count": 24,
   "metadata": {},
   "outputs": [],
   "source": [
    "#And now with solvent inputs (remember, could flip if wanted)\n",
    "solute_net_solv = pd.SolvationNet((8, 3), out_event_dims=2, hidden_dim=50, n_hidden=3, augment_input=True)"
   ]
  },
  {
   "cell_type": "code",
   "execution_count": 25,
   "metadata": {},
   "outputs": [],
   "source": [
    "solvent_coords = tf.random.normal((1, 6, 3))"
   ]
  },
  {
   "cell_type": "code",
   "execution_count": 26,
   "metadata": {
    "scrolled": true
   },
   "outputs": [
    {
     "name": "stdout",
     "output_type": "stream",
     "text": [
      "tf.Tensor(\n",
      "[[[[-0.04393127  0.07799909]\n",
      "   [-0.45480007  0.0830999 ]\n",
      "   [ 0.09980106 -0.10134049]]\n",
      "\n",
      "  [[-0.0212495  -0.07647125]\n",
      "   [-0.27031705  0.22254787]\n",
      "   [ 0.14784735 -0.10961125]]\n",
      "\n",
      "  [[ 0.19027738  0.21500748]\n",
      "   [-0.07181767 -0.21314739]\n",
      "   [-0.12685727 -0.06784045]]\n",
      "\n",
      "  [[-0.11054699  0.06168682]\n",
      "   [ 0.10411571  0.20586964]\n",
      "   [ 0.1029194   0.02431325]]\n",
      "\n",
      "  [[-0.08037464  0.17289037]\n",
      "   [-0.07414215 -0.21687378]\n",
      "   [ 0.1044483   0.3811229 ]]\n",
      "\n",
      "  [[ 0.21736358  0.01333422]\n",
      "   [-0.18241525  0.23080651]\n",
      "   [ 0.29402754 -0.15339898]]\n",
      "\n",
      "  [[-0.27673924 -0.06864452]\n",
      "   [-0.02252953 -0.06797273]\n",
      "   [ 0.15385608  0.16442102]]\n",
      "\n",
      "  [[-0.29977065 -0.14787084]\n",
      "   [-0.10428659 -0.14010908]\n",
      "   [-0.0601379  -0.04649765]]]], shape=(1, 8, 3, 2), dtype=float32) tf.Tensor(\n",
      "[[[[ 0.1755567   0.619532  ]\n",
      "   [-0.24137665  1.9391973 ]\n",
      "   [ 0.05261597 -0.39134994]]\n",
      "\n",
      "  [[ 0.9921926   0.48123786]\n",
      "   [-0.15530773  0.08682685]\n",
      "   [ 0.69199    -0.03299864]]\n",
      "\n",
      "  [[-0.03132709 -0.7789026 ]\n",
      "   [-0.9295109  -0.2497392 ]\n",
      "   [-0.7706678  -0.1633738 ]]\n",
      "\n",
      "  [[ 0.45783216  0.20199932]\n",
      "   [ 0.4118707  -1.1940718 ]\n",
      "   [-0.52928525 -0.25603378]]\n",
      "\n",
      "  [[-0.048664   -0.78663313]\n",
      "   [-0.43086135 -0.32528532]\n",
      "   [-0.58315     0.7744324 ]]\n",
      "\n",
      "  [[ 0.7606161   0.40826866]\n",
      "   [ 0.49667495 -0.6380694 ]\n",
      "   [ 0.46794426  0.27998412]]\n",
      "\n",
      "  [[ 0.22046566  1.4908829 ]\n",
      "   [ 0.5666697   1.9097368 ]\n",
      "   [ 0.18562967  1.1179028 ]]\n",
      "\n",
      "  [[-0.01856679 -0.5508524 ]\n",
      "   [ 0.59862125  0.57921875]\n",
      "   [-0.68845874  0.35491127]]]], shape=(1, 8, 3, 2), dtype=float32)\n"
     ]
    }
   ],
   "source": [
    "params, shifts = solute_net_solv(solute_coords, extra_coords=solvent_coords)\n",
    "print(params, shifts)"
   ]
  },
  {
   "cell_type": "code",
   "execution_count": 27,
   "metadata": {},
   "outputs": [
    {
     "name": "stdout",
     "output_type": "stream",
     "text": [
      "tf.Tensor(\n",
      "[[[ 1.25191     0.8854323  -0.5983267 ]\n",
      "  [ 1.5736074   0.9306261   3.16043   ]\n",
      "  [-0.05924763 -0.51728696 -1.4418948 ]\n",
      "  [ 2.1890135   0.8281939   1.824611  ]\n",
      "  [-0.2927664  -0.28309464 -0.7010681 ]\n",
      "  [-0.7037216   2.2428987   0.15105975]\n",
      "  [ 0.33747444  1.867202   -1.0906695 ]\n",
      "  [-0.16583134 -1.3260478  -0.00592005]]], shape=(1, 8, 3), dtype=float32)\n"
     ]
    }
   ],
   "source": [
    "dist = pd.create_dist(params + shifts, [tfp.distributions.Normal]*3,\n",
    "                      param_transforms=[tf.identity, lambda x: tf.math.exp(0.5*x)])\n",
    "sample = tf.stack(dist.sample(), axis=-1)\n",
    "print(sample)"
   ]
  },
  {
   "cell_type": "code",
   "execution_count": 28,
   "metadata": {
    "scrolled": true
   },
   "outputs": [
    {
     "name": "stdout",
     "output_type": "stream",
     "text": [
      "tf.Tensor(\n",
      "[[[[ 0.1755567   0.619532  ]\n",
      "   [-0.24137665  1.9391973 ]\n",
      "   [ 0.05261597 -0.39134994]]\n",
      "\n",
      "  [[ 0.9928813   0.4847834 ]\n",
      "   [-0.15807655  0.08715776]\n",
      "   [ 0.6944961  -0.02858201]]\n",
      "\n",
      "  [[-0.04249711 -0.78527635]\n",
      "   [-0.93515104 -0.24446882]\n",
      "   [-0.7677029  -0.15466097]]\n",
      "\n",
      "  [[ 0.4818019   0.18391809]\n",
      "   [ 0.42915756 -1.2173065 ]\n",
      "   [-0.53433484 -0.24436516]]\n",
      "\n",
      "  [[-0.06524521 -0.78180045]\n",
      "   [-0.3802561  -0.31051153]\n",
      "   [-0.568477    0.75208867]]\n",
      "\n",
      "  [[ 0.8100127   0.40884542]\n",
      "   [ 0.4959828  -0.7091505 ]\n",
      "   [ 0.4669512   0.29569528]]\n",
      "\n",
      "  [[ 0.2391311   1.5754158 ]\n",
      "   [ 0.40541324  1.8538301 ]\n",
      "   [ 0.38033673  0.9968158 ]]\n",
      "\n",
      "  [[ 0.06766802 -0.35980046]\n",
      "   [ 0.7097578   0.5926517 ]\n",
      "   [-0.86717904  0.2792175 ]]]], shape=(1, 8, 3, 2), dtype=float32)\n"
     ]
    }
   ],
   "source": [
    "new_shifts = solute_net_solv(solute_coords, extra_coords=solvent_coords, sampled_input=sample)\n",
    "print(new_shifts)"
   ]
  },
  {
   "cell_type": "code",
   "execution_count": 29,
   "metadata": {},
   "outputs": [
    {
     "ename": "ValueError",
     "evalue": "Input 0 of layer dense_18 is incompatible with the layer: expected axis -1 of input shape to have value 24 but received input with shape (1, 6)",
     "output_type": "error",
     "traceback": [
      "\u001b[0;31m---------------------------------------------------------------------------\u001b[0m",
      "\u001b[0;31mValueError\u001b[0m                                Traceback (most recent call last)",
      "\u001b[0;32m<ipython-input-29-0660697f6e35>\u001b[0m in \u001b[0;36m<module>\u001b[0;34m\u001b[0m\n\u001b[1;32m      1\u001b[0m \u001b[0;31m#Now that it's been called (so built) with extra_coords provided, must provide always with this layer\u001b[0m\u001b[0;34m\u001b[0m\u001b[0;34m\u001b[0m\u001b[0;34m\u001b[0m\u001b[0m\n\u001b[0;32m----> 2\u001b[0;31m \u001b[0mnew_shifts\u001b[0m \u001b[0;34m=\u001b[0m \u001b[0msolute_net_solv\u001b[0m\u001b[0;34m(\u001b[0m\u001b[0msolute_coords\u001b[0m\u001b[0;34m,\u001b[0m \u001b[0msampled_input\u001b[0m\u001b[0;34m=\u001b[0m\u001b[0msample\u001b[0m\u001b[0;34m)\u001b[0m\u001b[0;34m\u001b[0m\u001b[0;34m\u001b[0m\u001b[0m\n\u001b[0m\u001b[1;32m      3\u001b[0m \u001b[0mprint\u001b[0m\u001b[0;34m(\u001b[0m\u001b[0mnew_shifts\u001b[0m\u001b[0;34m)\u001b[0m\u001b[0;34m\u001b[0m\u001b[0;34m\u001b[0m\u001b[0m\n",
      "\u001b[0;32m~/bin/miniforge3/envs/machinelearning/lib/python3.7/site-packages/tensorflow/python/keras/engine/base_layer.py\u001b[0m in \u001b[0;36m__call__\u001b[0;34m(self, *args, **kwargs)\u001b[0m\n\u001b[1;32m   1010\u001b[0m         with autocast_variable.enable_auto_cast_variables(\n\u001b[1;32m   1011\u001b[0m             self._compute_dtype_object):\n\u001b[0;32m-> 1012\u001b[0;31m           \u001b[0moutputs\u001b[0m \u001b[0;34m=\u001b[0m \u001b[0mcall_fn\u001b[0m\u001b[0;34m(\u001b[0m\u001b[0minputs\u001b[0m\u001b[0;34m,\u001b[0m \u001b[0;34m*\u001b[0m\u001b[0margs\u001b[0m\u001b[0;34m,\u001b[0m \u001b[0;34m**\u001b[0m\u001b[0mkwargs\u001b[0m\u001b[0;34m)\u001b[0m\u001b[0;34m\u001b[0m\u001b[0;34m\u001b[0m\u001b[0m\n\u001b[0m\u001b[1;32m   1013\u001b[0m \u001b[0;34m\u001b[0m\u001b[0m\n\u001b[1;32m   1014\u001b[0m         \u001b[0;32mif\u001b[0m \u001b[0mself\u001b[0m\u001b[0;34m.\u001b[0m\u001b[0m_activity_regularizer\u001b[0m\u001b[0;34m:\u001b[0m\u001b[0;34m\u001b[0m\u001b[0;34m\u001b[0m\u001b[0m\n",
      "\u001b[0;32m~/bin/libVAE/particle_decoding.py\u001b[0m in \u001b[0;36mcall\u001b[0;34m(self, input_coords, extra_coords, sampled_input)\u001b[0m\n\u001b[1;32m    160\u001b[0m     \u001b[0;31m#Note that this will only return shifts\u001b[0m\u001b[0;34m\u001b[0m\u001b[0;34m\u001b[0m\u001b[0;34m\u001b[0m\u001b[0m\n\u001b[1;32m    161\u001b[0m     \u001b[0;32mif\u001b[0m \u001b[0msampled_input\u001b[0m \u001b[0;32mis\u001b[0m \u001b[0;32mnot\u001b[0m \u001b[0;32mNone\u001b[0m\u001b[0;34m:\u001b[0m\u001b[0;34m\u001b[0m\u001b[0;34m\u001b[0m\u001b[0m\n\u001b[0;32m--> 162\u001b[0;31m       \u001b[0mshifts\u001b[0m \u001b[0;34m=\u001b[0m \u001b[0mself\u001b[0m\u001b[0;34m.\u001b[0m\u001b[0mautonet\u001b[0m\u001b[0;34m(\u001b[0m\u001b[0msampled_input\u001b[0m\u001b[0;34m,\u001b[0m \u001b[0mconditional_input\u001b[0m\u001b[0;34m=\u001b[0m\u001b[0mcond_input\u001b[0m\u001b[0;34m)\u001b[0m\u001b[0;34m\u001b[0m\u001b[0;34m\u001b[0m\u001b[0m\n\u001b[0m\u001b[1;32m    163\u001b[0m       \u001b[0mshifts\u001b[0m \u001b[0;34m=\u001b[0m \u001b[0mtf\u001b[0m\u001b[0;34m.\u001b[0m\u001b[0mreshape\u001b[0m\u001b[0;34m(\u001b[0m\u001b[0mshifts\u001b[0m\u001b[0;34m,\u001b[0m \u001b[0;34m(\u001b[0m\u001b[0;34m-\u001b[0m\u001b[0;36m1\u001b[0m\u001b[0;34m,\u001b[0m\u001b[0;34m)\u001b[0m\u001b[0;34m+\u001b[0m\u001b[0mself\u001b[0m\u001b[0;34m.\u001b[0m\u001b[0mout_shape\u001b[0m\u001b[0;34m+\u001b[0m\u001b[0;34m(\u001b[0m\u001b[0mself\u001b[0m\u001b[0;34m.\u001b[0m\u001b[0mout_event_dims\u001b[0m\u001b[0;34m,\u001b[0m\u001b[0;34m)\u001b[0m\u001b[0;34m)\u001b[0m\u001b[0;34m\u001b[0m\u001b[0;34m\u001b[0m\u001b[0m\n\u001b[1;32m    164\u001b[0m       \u001b[0;32mreturn\u001b[0m \u001b[0mshifts\u001b[0m\u001b[0;34m\u001b[0m\u001b[0;34m\u001b[0m\u001b[0m\n",
      "\u001b[0;32m~/bin/miniforge3/envs/machinelearning/lib/python3.7/site-packages/tensorflow/python/keras/engine/base_layer.py\u001b[0m in \u001b[0;36m__call__\u001b[0;34m(self, *args, **kwargs)\u001b[0m\n\u001b[1;32m   1010\u001b[0m         with autocast_variable.enable_auto_cast_variables(\n\u001b[1;32m   1011\u001b[0m             self._compute_dtype_object):\n\u001b[0;32m-> 1012\u001b[0;31m           \u001b[0moutputs\u001b[0m \u001b[0;34m=\u001b[0m \u001b[0mcall_fn\u001b[0m\u001b[0;34m(\u001b[0m\u001b[0minputs\u001b[0m\u001b[0;34m,\u001b[0m \u001b[0;34m*\u001b[0m\u001b[0margs\u001b[0m\u001b[0;34m,\u001b[0m \u001b[0;34m**\u001b[0m\u001b[0mkwargs\u001b[0m\u001b[0;34m)\u001b[0m\u001b[0;34m\u001b[0m\u001b[0;34m\u001b[0m\u001b[0m\n\u001b[0m\u001b[1;32m   1013\u001b[0m \u001b[0;34m\u001b[0m\u001b[0m\n\u001b[1;32m   1014\u001b[0m         \u001b[0;32mif\u001b[0m \u001b[0mself\u001b[0m\u001b[0;34m.\u001b[0m\u001b[0m_activity_regularizer\u001b[0m\u001b[0;34m:\u001b[0m\u001b[0;34m\u001b[0m\u001b[0;34m\u001b[0m\u001b[0m\n",
      "\u001b[0;32m~/bin/libVAE/architectures.py\u001b[0m in \u001b[0;36mcall\u001b[0;34m(self, input_tensor, conditional_input)\u001b[0m\n\u001b[1;32m    959\u001b[0m       \u001b[0mout\u001b[0m \u001b[0;34m=\u001b[0m \u001b[0mself\u001b[0m\u001b[0;34m.\u001b[0m\u001b[0mnetworks\u001b[0m\u001b[0;34m[\u001b[0m\u001b[0mk\u001b[0m\u001b[0;34m]\u001b[0m\u001b[0;34m(\u001b[0m\u001b[0mout\u001b[0m\u001b[0;34m)\u001b[0m\u001b[0;34m\u001b[0m\u001b[0;34m\u001b[0m\u001b[0m\n\u001b[1;32m    960\u001b[0m       \u001b[0;32mif\u001b[0m \u001b[0mself\u001b[0m\u001b[0;34m.\u001b[0m\u001b[0mconditional\u001b[0m\u001b[0;34m:\u001b[0m\u001b[0;34m\u001b[0m\u001b[0;34m\u001b[0m\u001b[0m\n\u001b[0;32m--> 961\u001b[0;31m         \u001b[0mout\u001b[0m \u001b[0;34m=\u001b[0m \u001b[0mout\u001b[0m \u001b[0;34m+\u001b[0m \u001b[0mself\u001b[0m\u001b[0;34m.\u001b[0m\u001b[0mconditional_networks\u001b[0m\u001b[0;34m[\u001b[0m\u001b[0mk\u001b[0m\u001b[0;34m]\u001b[0m\u001b[0;34m(\u001b[0m\u001b[0mconditional_input\u001b[0m\u001b[0;34m)\u001b[0m\u001b[0;34m\u001b[0m\u001b[0;34m\u001b[0m\u001b[0m\n\u001b[0m\u001b[1;32m    962\u001b[0m       \u001b[0;32mif\u001b[0m \u001b[0mk\u001b[0m \u001b[0;34m!=\u001b[0m \u001b[0mlen\u001b[0m\u001b[0;34m(\u001b[0m\u001b[0mself\u001b[0m\u001b[0;34m.\u001b[0m\u001b[0mnetworks\u001b[0m\u001b[0;34m)\u001b[0m \u001b[0;34m-\u001b[0m \u001b[0;36m1\u001b[0m\u001b[0;34m:\u001b[0m\u001b[0;34m\u001b[0m\u001b[0;34m\u001b[0m\u001b[0m\n\u001b[1;32m    963\u001b[0m         \u001b[0mout\u001b[0m \u001b[0;34m=\u001b[0m \u001b[0mself\u001b[0m\u001b[0;34m.\u001b[0m\u001b[0mactivation\u001b[0m\u001b[0;34m(\u001b[0m\u001b[0mout\u001b[0m\u001b[0;34m)\u001b[0m\u001b[0;34m\u001b[0m\u001b[0;34m\u001b[0m\u001b[0m\n",
      "\u001b[0;32m~/bin/miniforge3/envs/machinelearning/lib/python3.7/site-packages/tensorflow/python/keras/engine/base_layer.py\u001b[0m in \u001b[0;36m__call__\u001b[0;34m(self, *args, **kwargs)\u001b[0m\n\u001b[1;32m    996\u001b[0m         \u001b[0minputs\u001b[0m \u001b[0;34m=\u001b[0m \u001b[0mself\u001b[0m\u001b[0;34m.\u001b[0m\u001b[0m_maybe_cast_inputs\u001b[0m\u001b[0;34m(\u001b[0m\u001b[0minputs\u001b[0m\u001b[0;34m,\u001b[0m \u001b[0minput_list\u001b[0m\u001b[0;34m)\u001b[0m\u001b[0;34m\u001b[0m\u001b[0;34m\u001b[0m\u001b[0m\n\u001b[1;32m    997\u001b[0m \u001b[0;34m\u001b[0m\u001b[0m\n\u001b[0;32m--> 998\u001b[0;31m       \u001b[0minput_spec\u001b[0m\u001b[0;34m.\u001b[0m\u001b[0massert_input_compatibility\u001b[0m\u001b[0;34m(\u001b[0m\u001b[0mself\u001b[0m\u001b[0;34m.\u001b[0m\u001b[0minput_spec\u001b[0m\u001b[0;34m,\u001b[0m \u001b[0minputs\u001b[0m\u001b[0;34m,\u001b[0m \u001b[0mself\u001b[0m\u001b[0;34m.\u001b[0m\u001b[0mname\u001b[0m\u001b[0;34m)\u001b[0m\u001b[0;34m\u001b[0m\u001b[0;34m\u001b[0m\u001b[0m\n\u001b[0m\u001b[1;32m    999\u001b[0m       \u001b[0;32mif\u001b[0m \u001b[0meager\u001b[0m\u001b[0;34m:\u001b[0m\u001b[0;34m\u001b[0m\u001b[0;34m\u001b[0m\u001b[0m\n\u001b[1;32m   1000\u001b[0m         \u001b[0mcall_fn\u001b[0m \u001b[0;34m=\u001b[0m \u001b[0mself\u001b[0m\u001b[0;34m.\u001b[0m\u001b[0mcall\u001b[0m\u001b[0;34m\u001b[0m\u001b[0;34m\u001b[0m\u001b[0m\n",
      "\u001b[0;32m~/bin/miniforge3/envs/machinelearning/lib/python3.7/site-packages/tensorflow/python/keras/engine/input_spec.py\u001b[0m in \u001b[0;36massert_input_compatibility\u001b[0;34m(input_spec, inputs, layer_name)\u001b[0m\n\u001b[1;32m    257\u001b[0m               \u001b[0;34m' incompatible with the layer: expected axis '\u001b[0m \u001b[0;34m+\u001b[0m \u001b[0mstr\u001b[0m\u001b[0;34m(\u001b[0m\u001b[0maxis\u001b[0m\u001b[0;34m)\u001b[0m \u001b[0;34m+\u001b[0m\u001b[0;34m\u001b[0m\u001b[0;34m\u001b[0m\u001b[0m\n\u001b[1;32m    258\u001b[0m               \u001b[0;34m' of input shape to have value '\u001b[0m \u001b[0;34m+\u001b[0m \u001b[0mstr\u001b[0m\u001b[0;34m(\u001b[0m\u001b[0mvalue\u001b[0m\u001b[0;34m)\u001b[0m \u001b[0;34m+\u001b[0m\u001b[0;34m\u001b[0m\u001b[0;34m\u001b[0m\u001b[0m\n\u001b[0;32m--> 259\u001b[0;31m               ' but received input with shape ' + display_shape(x.shape))\n\u001b[0m\u001b[1;32m    260\u001b[0m     \u001b[0;31m# Check shape.\u001b[0m\u001b[0;34m\u001b[0m\u001b[0;34m\u001b[0m\u001b[0;34m\u001b[0m\u001b[0m\n\u001b[1;32m    261\u001b[0m     \u001b[0;32mif\u001b[0m \u001b[0mspec\u001b[0m\u001b[0;34m.\u001b[0m\u001b[0mshape\u001b[0m \u001b[0;32mis\u001b[0m \u001b[0;32mnot\u001b[0m \u001b[0;32mNone\u001b[0m \u001b[0;32mand\u001b[0m \u001b[0mshape\u001b[0m\u001b[0;34m.\u001b[0m\u001b[0mrank\u001b[0m \u001b[0;32mis\u001b[0m \u001b[0;32mnot\u001b[0m \u001b[0;32mNone\u001b[0m\u001b[0;34m:\u001b[0m\u001b[0;34m\u001b[0m\u001b[0;34m\u001b[0m\u001b[0m\n",
      "\u001b[0;31mValueError\u001b[0m: Input 0 of layer dense_18 is incompatible with the layer: expected axis -1 of input shape to have value 24 but received input with shape (1, 6)"
     ]
    }
   ],
   "source": [
    "#Now that it's been called (so built) with extra_coords provided, must provide always with this layer\n",
    "new_shifts = solute_net_solv(solute_coords, sampled_input=sample)\n",
    "print(new_shifts)"
   ]
  },
  {
   "cell_type": "code",
   "execution_count": 30,
   "metadata": {},
   "outputs": [],
   "source": [
    "#Now pretend we're working with a central solvent particle and adding one more\n",
    "#(conditioned on other solutes and solvent already around)\n",
    "solvent_net = pd.SolvationNet((1, 3), out_event_dims=2, hidden_dim=50, n_hidden=3, augment_input=True)"
   ]
  },
  {
   "cell_type": "code",
   "execution_count": 31,
   "metadata": {},
   "outputs": [
    {
     "name": "stdout",
     "output_type": "stream",
     "text": [
      "tf.Tensor(\n",
      "[[[[-0.19094816 -0.4481198 ]\n",
      "   [ 0.42995268  0.31935585]\n",
      "   [-0.20115793 -0.49286693]]]], shape=(1, 1, 3, 2), dtype=float32) tf.Tensor(\n",
      "[[[[-0.5909523   0.11009777]\n",
      "   [ 0.2289467   2.0338945 ]\n",
      "   [ 0.04213387 -0.708703  ]]]], shape=(1, 1, 3, 2), dtype=float32)\n"
     ]
    }
   ],
   "source": [
    "params, shifts = solvent_net(solvent_coords, extra_coords=solute_coords)\n",
    "print(params, shifts)"
   ]
  },
  {
   "cell_type": "markdown",
   "metadata": {},
   "source": [
    "## Full particle decoder"
   ]
  },
  {
   "cell_type": "code",
   "execution_count": 66,
   "metadata": {},
   "outputs": [],
   "source": [
    "decoder = pd.ParticleDecoder(3, 2, k_solute_neighbors=3, k_solvent_neighbors=3)"
   ]
  },
  {
   "cell_type": "code",
   "execution_count": 67,
   "metadata": {},
   "outputs": [],
   "source": [
    "solute_coords = tf.random.normal((2, 5, 3))"
   ]
  },
  {
   "cell_type": "code",
   "execution_count": 68,
   "metadata": {},
   "outputs": [
    {
     "name": "stdout",
     "output_type": "stream",
     "text": [
      "(2, 60, 3) (2, 60, 3, 2) (2, 60, 3)\n"
     ]
    }
   ],
   "source": [
    "sample_out, params_out, ref_out = decoder(solute_coords)\n",
    "print(sample_out.shape, params_out.shape, ref_out.shape)"
   ]
  },
  {
   "cell_type": "code",
   "execution_count": 69,
   "metadata": {},
   "outputs": [
    {
     "data": {
      "text/plain": [
       "<tf.Tensor: shape=(2, 60), dtype=float32, numpy=\n",
       "array([[ -3.2949982 ,  -3.1210432 ,  -2.2930758 ,  -3.7953968 ,\n",
       "         -4.053272  ,  -3.326024  ,  -1.8224097 ,  -2.7933607 ,\n",
       "         -3.4188285 ,  -3.6859188 ,  -3.7196665 ,  -4.9562745 ,\n",
       "         -3.0743856 ,  -3.6298223 ,  -0.36489794, -11.974653  ,\n",
       "         -1.3554857 ,  -4.7123537 ,  -3.5820088 ,  -3.716106  ,\n",
       "         -2.4059625 ,  -4.0679    ,  -1.7192688 ,  -8.929336  ,\n",
       "         -3.2049131 ,  -7.6591873 ,  -2.5990767 ,  -5.8504176 ,\n",
       "         -4.976803  ,  -4.4901114 ,  -3.2681174 ,  -4.8130407 ,\n",
       "         -3.9620962 ,  -4.741335  ,  -4.149606  ,  -3.2440553 ,\n",
       "         -6.5622597 ,  -4.3301125 ,  -4.8495374 ,  -6.302489  ,\n",
       "         -4.405369  ,  -3.095609  ,  -4.094417  ,  -3.2268963 ,\n",
       "         -1.6817219 ,  -5.322399  ,  -3.1788025 ,  -3.6609015 ,\n",
       "         -5.0258226 ,  -4.582065  ,  -2.811842  ,  -2.5754826 ,\n",
       "         -2.6126313 ,   0.49051094,  -3.7317128 ,  -4.862255  ,\n",
       "         -4.112133  ,  -2.9638703 ,  -2.5627127 ,  -4.0419855 ],\n",
       "       [ -2.944878  ,  -4.55849   ,  -4.912962  ,  -5.33401   ,\n",
       "         -6.285438  ,  -2.3788323 ,  -5.7931356 ,  -6.5299883 ,\n",
       "         -2.716489  ,  -4.954275  ,  -3.2180648 ,  -3.2979577 ,\n",
       "         -5.6104608 ,  -2.239512  ,  -2.6100953 ,  -5.1890926 ,\n",
       "         -3.972933  ,  -3.4307709 ,  -3.6504312 ,  -4.4594007 ,\n",
       "         -3.265442  ,  -2.749041  ,  -2.4504285 ,  -5.199984  ,\n",
       "         -3.5173545 ,  -3.192811  ,  -5.0000386 ,  -4.121023  ,\n",
       "         -4.188605  ,  -3.9076073 ,  -9.01107   ,  -2.8682997 ,\n",
       "         -6.84904   ,  -4.132719  ,  -2.575368  ,  -6.8981404 ,\n",
       "         -5.0075016 ,  -4.977351  ,  -4.3183255 ,  -5.6770315 ,\n",
       "         -3.4879365 ,  -2.7927427 ,  -3.358216  ,  -5.1467524 ,\n",
       "         -3.9376535 ,  -3.6492794 ,  -3.3168132 ,  -4.9165025 ,\n",
       "         -4.3818417 , -10.761083  ,  -3.3921845 ,  -3.1691437 ,\n",
       "         -5.69332   ,  -5.15273   ,  -3.6328115 ,  -2.4818268 ,\n",
       "         -6.1061068 ,  -2.7782578 ,  -2.9459634 ,  -1.4301748 ]],\n",
       "      dtype=float32)>"
      ]
     },
     "execution_count": 69,
     "metadata": {},
     "output_type": "execute_result"
    }
   ],
   "source": [
    "#For convenience, added log_prob function to decoder\n",
    "decoder.get_log_probs(sample_out, params_out, ref_out)"
   ]
  },
  {
   "cell_type": "code",
   "execution_count": null,
   "metadata": {},
   "outputs": [],
   "source": []
  }
 ],
 "metadata": {
  "kernelspec": {
   "display_name": "Python [conda env:machinelearning]",
   "language": "python",
   "name": "conda-env-machinelearning-py"
  },
  "language_info": {
   "codemirror_mode": {
    "name": "ipython",
    "version": 3
   },
   "file_extension": ".py",
   "mimetype": "text/x-python",
   "name": "python",
   "nbconvert_exporter": "python",
   "pygments_lexer": "ipython3",
   "version": "3.7.9"
  }
 },
 "nbformat": 4,
 "nbformat_minor": 4
}

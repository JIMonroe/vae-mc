{
 "cells": [
  {
   "cell_type": "code",
   "execution_count": 1,
   "metadata": {},
   "outputs": [
    {
     "data": {
      "application/vnd.jupyter.widget-view+json": {
       "model_id": "54220d2243bf403baf6a8491916649f5",
       "version_major": 2,
       "version_minor": 0
      },
      "text/plain": []
     },
     "metadata": {},
     "output_type": "display_data"
    }
   ],
   "source": [
    "import numpy as np\n",
    "import MDAnalysis as mda \n",
    "import nglview\n",
    "import matplotlib.pyplot as plt"
   ]
  },
  {
   "cell_type": "markdown",
   "metadata": {},
   "source": [
    "# Data prep"
   ]
  },
  {
   "cell_type": "code",
   "execution_count": 2,
   "metadata": {},
   "outputs": [
    {
     "name": "stdout",
     "output_type": "stream",
     "text": [
      "<Atom 1: HH31 of type HC of resname ACE, resid 1 and segid SYSTEM>\n",
      "<Atom 2: CH3 of type CT of resname ACE, resid 1 and segid SYSTEM>\n",
      "<Atom 3: HH32 of type HC of resname ACE, resid 1 and segid SYSTEM>\n",
      "<Atom 4: HH33 of type HC of resname ACE, resid 1 and segid SYSTEM>\n",
      "<Atom 5: C of type C of resname ACE, resid 1 and segid SYSTEM>\n",
      "<Atom 6: O of type O of resname ACE, resid 1 and segid SYSTEM>\n",
      "<Atom 7: N of type N of resname ALA, resid 2 and segid SYSTEM>\n",
      "<Atom 8: H of type H of resname ALA, resid 2 and segid SYSTEM>\n",
      "<Atom 9: CA of type CT of resname ALA, resid 2 and segid SYSTEM>\n",
      "<Atom 10: HA of type H1 of resname ALA, resid 2 and segid SYSTEM>\n",
      "<Atom 11: CB of type CT of resname ALA, resid 2 and segid SYSTEM>\n",
      "<Atom 12: HB1 of type HC of resname ALA, resid 2 and segid SYSTEM>\n",
      "<Atom 13: HB2 of type HC of resname ALA, resid 2 and segid SYSTEM>\n",
      "<Atom 14: HB3 of type HC of resname ALA, resid 2 and segid SYSTEM>\n",
      "<Atom 15: C of type C of resname ALA, resid 2 and segid SYSTEM>\n",
      "<Atom 16: O of type O of resname ALA, resid 2 and segid SYSTEM>\n",
      "<Atom 17: N of type N of resname NME, resid 3 and segid SYSTEM>\n",
      "<Atom 18: H of type H of resname NME, resid 3 and segid SYSTEM>\n",
      "<Atom 19: CH3 of type CT of resname NME, resid 3 and segid SYSTEM>\n",
      "<Atom 20: HH31 of type H1 of resname NME, resid 3 and segid SYSTEM>\n",
      "<Atom 21: HH32 of type H1 of resname NME, resid 3 and segid SYSTEM>\n",
      "<Atom 22: HH33 of type H1 of resname NME, resid 3 and segid SYSTEM>\n"
     ]
    },
    {
     "name": "stderr",
     "output_type": "stream",
     "text": [
      "/Users/jim2/bin/MDAnalysis/mdanalysis/package/MDAnalysis/topology/TOPParser.py:288: UserWarning: ATOMIC_NUMBER record not found, elements attribute will not be populated. If needed these can be guessed using MDAnalysis.topology.guessers.\n",
      "  warnings.warn(msg)\n"
     ]
    }
   ],
   "source": [
    "#Should only need to run through this section once to prepare the data for training a VAE\n",
    "#Load topology and trajectory into MDAnalysis \"Universe\"\n",
    "uni = mda.Universe('sim_files/alanine-dipeptide.prmtop', 'sim_files/ala_dipeptide.nc')\n",
    "\n",
    "trajtimes = np.arange(0, uni.trajectory.totaltime+1e-06, uni.trajectory.dt)\n",
    "\n",
    "for a in uni.atoms:\n",
    "    print(a)"
   ]
  },
  {
   "cell_type": "code",
   "execution_count": 3,
   "metadata": {},
   "outputs": [],
   "source": [
    "from MDAnalysis import transformations\n",
    "\n",
    "#Want to try two coordinate systems\n",
    "#For both will use C-alpha as a reference (and the first frame for rotations)\n",
    "#For first, remove translation of reference atom, then align via rigid rotation matrix\n",
    "#For second, take first set of coordinates and convert to bond-angle-torsion\n",
    "#Will also have third set of Cartesian, but with no hydrogens, just heavy atoms\n",
    "\n",
    "#Remove rotation and COM translation\n",
    "uni.trajectory.add_transformations(transformations.fit_rot_trans(uni.select_atoms('all'), uni.select_atoms('all')))\n"
   ]
  },
  {
   "cell_type": "code",
   "execution_count": 4,
   "metadata": {},
   "outputs": [
    {
     "data": {
      "application/vnd.jupyter.widget-view+json": {
       "model_id": "4916ba7fc9f247d28bd498e4c63e0d69",
       "version_major": 2,
       "version_minor": 0
      },
      "text/plain": [
       "NGLWidget(max_frame=999999)"
      ]
     },
     "metadata": {},
     "output_type": "display_data"
    }
   ],
   "source": [
    "#Can watch the trajectory with nglview!\n",
    "#If have already applied transformation, will not move very much (due to alignment)\n",
    "view = nglview.show_mdanalysis(uni)\n",
    "#view.player.parameters={'step':10}\n",
    "view"
   ]
  },
  {
   "cell_type": "code",
   "execution_count": 5,
   "metadata": {},
   "outputs": [
    {
     "name": "stdout",
     "output_type": "stream",
     "text": [
      "(100000, 66)\n"
     ]
    }
   ],
   "source": [
    "from MDAnalysis.analysis import bat\n",
    "\n",
    "#Now perform bond-angle-torsion conversion\n",
    "#Note we only take every 10th frame, so every 10 ps\n",
    "bat_analysis = bat.BAT(uni.select_atoms('all'))\n",
    "bat_analysis.run(step=10)\n",
    "\n",
    "bat_coords = bat_analysis.bat\n",
    "print(bat_coords.shape)"
   ]
  },
  {
   "cell_type": "code",
   "execution_count": 6,
   "metadata": {},
   "outputs": [],
   "source": [
    "bat_analysis.save('ala_dipeptide_BAT')"
   ]
  },
  {
   "cell_type": "code",
   "execution_count": null,
   "metadata": {},
   "outputs": [],
   "source": [
    "#Randomly shuffle so batches are balanced\n",
    "bat_coords = np.load('ala_dipeptide_BAT.npy')\n",
    "np.random.shuffle(bat_coords)\n",
    "np.save('ala_dipeptide_BAT', bat_coords)"
   ]
  },
  {
   "cell_type": "code",
   "execution_count": 14,
   "metadata": {},
   "outputs": [
    {
     "name": "stdout",
     "output_type": "stream",
     "text": [
      "(100000, 66)\n",
      "(100000, 30)\n"
     ]
    }
   ],
   "source": [
    "#Want to get all XYZ coordinates and save flattened version for easy training\n",
    "#Note we only take every 10th frame, so every 10 ps\n",
    "xyz_coords = np.zeros(bat_coords.shape)\n",
    "\n",
    "#And also pull out only heavy atoms, removing hydrogens\n",
    "h_inds = [a.index for a in uni.select_atoms('name H*')] #[0, 2, 3, 7, 9, 11, 12, 13, 17, 19, 20, 21]\n",
    "h_mask = np.ones(bat_coords.shape[1]//3, dtype=bool)\n",
    "h_mask[h_inds] = False\n",
    "xyz_coords_heavy = np.zeros((xyz_coords.shape[0], xyz_coords.shape[1]-(3*len(h_inds))))\n",
    "\n",
    "for t, frame in enumerate(uni.trajectory[::10]):\n",
    "    xyz_coords[t, :] = frame.positions.flatten()\n",
    "    xyz_coords_heavy[t, :] = frame.positions[h_mask, :].flatten()\n",
    "\n",
    "print(xyz_coords.shape)\n",
    "print(xyz_coords_heavy.shape)"
   ]
  },
  {
   "cell_type": "code",
   "execution_count": 15,
   "metadata": {},
   "outputs": [],
   "source": [
    "np.random.shuffle(xyz_coords)\n",
    "np.save('ala_dipeptide_XYZ', xyz_coords)"
   ]
  },
  {
   "cell_type": "code",
   "execution_count": 16,
   "metadata": {},
   "outputs": [],
   "source": [
    "np.random.shuffle(xyz_coords_heavy)\n",
    "np.save('ala_dipeptide_XYZheavy', xyz_coords_heavy)"
   ]
  },
  {
   "cell_type": "code",
   "execution_count": null,
   "metadata": {},
   "outputs": [],
   "source": []
  }
 ],
 "metadata": {
  "kernelspec": {
   "display_name": "Python [conda env:machinelearning]",
   "language": "python",
   "name": "conda-env-machinelearning-py"
  },
  "language_info": {
   "codemirror_mode": {
    "name": "ipython",
    "version": 3
   },
   "file_extension": ".py",
   "mimetype": "text/x-python",
   "name": "python",
   "nbconvert_exporter": "python",
   "pygments_lexer": "ipython3",
   "version": "3.7.9"
  }
 },
 "nbformat": 4,
 "nbformat_minor": 4
}
